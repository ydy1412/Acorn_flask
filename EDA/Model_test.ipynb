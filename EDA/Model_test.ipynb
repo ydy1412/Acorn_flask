{
 "cells": [
  {
   "cell_type": "code",
   "execution_count": 1,
   "metadata": {},
   "outputs": [
    {
     "name": "stderr",
     "output_type": "stream",
     "text": [
      "Using TensorFlow backend.\n"
     ]
    }
   ],
   "source": [
    "import pandas as pd\n",
    "import plotly as ply\n",
    "import numpy as np\n",
    "import matplotlib.pyplot as plt\n",
    "from user_defined_function.functions import *\n",
    "from IPython.display import clear_output\n",
    "import pickle\n",
    "\n",
    "import keras\n",
    "from keras.models import Sequential\n",
    "from keras.layers import Dense\n",
    "from keras.models import model_from_yaml\n",
    "\n",
    "from xgboost import XGBClassifier\n",
    "\n",
    "from sklearn.model_selection import train_test_split\n",
    "from sklearn import metrics\n",
    "\n",
    "from imblearn.under_sampling import RandomUnderSampler\n",
    "from imblearn.over_sampling import RandomOverSampler\n",
    "\n",
    "image_directory= 'image_folder/'\n",
    "data_directory = 'Original_data/survey_results_public.csv'"
   ]
  },
  {
   "cell_type": "code",
   "execution_count": 3,
   "metadata": {},
   "outputs": [],
   "source": [
    "class PlotLosses(keras.callbacks.Callback):\n",
    "    def on_train_begin(self, logs={}):\n",
    "        self.i = 0\n",
    "        self.x = []\n",
    "        self.losses = []        \n",
    "        self.fig = plt.figure()                \n",
    "        self.logs = []\n",
    "\n",
    "    def on_epoch_end(self, epoch, logs={}):\n",
    "        \n",
    "        self.logs.append(logs)\n",
    "        self.x.append(self.i)\n",
    "        self.losses.append(logs.get('loss'))\n",
    "        self.i += 1\n",
    "        \n",
    "        clear_output(wait=True)\n",
    "        plt.plot(self.x, self.losses, label=\"loss\")\n",
    "        plt.legend()\n",
    "        plt.show();\n",
    "        \n",
    "plot_losses = PlotLosses()"
   ]
  },
  {
   "cell_type": "markdown",
   "metadata": {},
   "source": [
    "### load original data"
   ]
  },
  {
   "cell_type": "code",
   "execution_count": 2,
   "metadata": {
    "scrolled": true
   },
   "outputs": [
    {
     "data": {
      "text/html": [
       "<div>\n",
       "<style scoped>\n",
       "    .dataframe tbody tr th:only-of-type {\n",
       "        vertical-align: middle;\n",
       "    }\n",
       "\n",
       "    .dataframe tbody tr th {\n",
       "        vertical-align: top;\n",
       "    }\n",
       "\n",
       "    .dataframe thead th {\n",
       "        text-align: right;\n",
       "    }\n",
       "</style>\n",
       "<table border=\"1\" class=\"dataframe\">\n",
       "  <thead>\n",
       "    <tr style=\"text-align: right;\">\n",
       "      <th></th>\n",
       "      <th>Respondent</th>\n",
       "      <th>Professional</th>\n",
       "      <th>ProgramHobby</th>\n",
       "      <th>Country</th>\n",
       "      <th>University</th>\n",
       "      <th>EmploymentStatus</th>\n",
       "      <th>FormalEducation</th>\n",
       "      <th>MajorUndergrad</th>\n",
       "      <th>HomeRemote</th>\n",
       "      <th>CompanySize</th>\n",
       "      <th>...</th>\n",
       "      <th>StackOverflowMakeMoney</th>\n",
       "      <th>Gender</th>\n",
       "      <th>HighestEducationParents</th>\n",
       "      <th>Race</th>\n",
       "      <th>SurveyLong</th>\n",
       "      <th>QuestionsInteresting</th>\n",
       "      <th>QuestionsConfusing</th>\n",
       "      <th>InterestedAnswers</th>\n",
       "      <th>Salary</th>\n",
       "      <th>ExpectedSalary</th>\n",
       "    </tr>\n",
       "  </thead>\n",
       "  <tbody>\n",
       "    <tr>\n",
       "      <td>0</td>\n",
       "      <td>1</td>\n",
       "      <td>Student</td>\n",
       "      <td>Yes, both</td>\n",
       "      <td>United States</td>\n",
       "      <td>No</td>\n",
       "      <td>Not employed, and not looking for work</td>\n",
       "      <td>Secondary school</td>\n",
       "      <td>NaN</td>\n",
       "      <td>NaN</td>\n",
       "      <td>NaN</td>\n",
       "      <td>...</td>\n",
       "      <td>Strongly disagree</td>\n",
       "      <td>Male</td>\n",
       "      <td>High school</td>\n",
       "      <td>White or of European descent</td>\n",
       "      <td>Strongly disagree</td>\n",
       "      <td>Strongly agree</td>\n",
       "      <td>Disagree</td>\n",
       "      <td>Strongly agree</td>\n",
       "      <td>NaN</td>\n",
       "      <td>NaN</td>\n",
       "    </tr>\n",
       "    <tr>\n",
       "      <td>1</td>\n",
       "      <td>2</td>\n",
       "      <td>Student</td>\n",
       "      <td>Yes, both</td>\n",
       "      <td>United Kingdom</td>\n",
       "      <td>Yes, full-time</td>\n",
       "      <td>Employed part-time</td>\n",
       "      <td>Some college/university study without earning ...</td>\n",
       "      <td>Computer science or software engineering</td>\n",
       "      <td>More than half, but not all, the time</td>\n",
       "      <td>20 to 99 employees</td>\n",
       "      <td>...</td>\n",
       "      <td>Strongly disagree</td>\n",
       "      <td>Male</td>\n",
       "      <td>A master's degree</td>\n",
       "      <td>White or of European descent</td>\n",
       "      <td>Somewhat agree</td>\n",
       "      <td>Somewhat agree</td>\n",
       "      <td>Disagree</td>\n",
       "      <td>Strongly agree</td>\n",
       "      <td>NaN</td>\n",
       "      <td>37500.0</td>\n",
       "    </tr>\n",
       "    <tr>\n",
       "      <td>2</td>\n",
       "      <td>3</td>\n",
       "      <td>Professional developer</td>\n",
       "      <td>Yes, both</td>\n",
       "      <td>United Kingdom</td>\n",
       "      <td>No</td>\n",
       "      <td>Employed full-time</td>\n",
       "      <td>Bachelor's degree</td>\n",
       "      <td>Computer science or software engineering</td>\n",
       "      <td>Less than half the time, but at least one day ...</td>\n",
       "      <td>10,000 or more employees</td>\n",
       "      <td>...</td>\n",
       "      <td>Disagree</td>\n",
       "      <td>Male</td>\n",
       "      <td>A professional degree</td>\n",
       "      <td>White or of European descent</td>\n",
       "      <td>Somewhat agree</td>\n",
       "      <td>Agree</td>\n",
       "      <td>Disagree</td>\n",
       "      <td>Agree</td>\n",
       "      <td>113750.0</td>\n",
       "      <td>NaN</td>\n",
       "    </tr>\n",
       "    <tr>\n",
       "      <td>3</td>\n",
       "      <td>4</td>\n",
       "      <td>Professional non-developer who sometimes write...</td>\n",
       "      <td>Yes, both</td>\n",
       "      <td>United States</td>\n",
       "      <td>No</td>\n",
       "      <td>Employed full-time</td>\n",
       "      <td>Doctoral degree</td>\n",
       "      <td>A non-computer-focused engineering discipline</td>\n",
       "      <td>Less than half the time, but at least one day ...</td>\n",
       "      <td>10,000 or more employees</td>\n",
       "      <td>...</td>\n",
       "      <td>Disagree</td>\n",
       "      <td>Male</td>\n",
       "      <td>A doctoral degree</td>\n",
       "      <td>White or of European descent</td>\n",
       "      <td>Agree</td>\n",
       "      <td>Agree</td>\n",
       "      <td>Somewhat agree</td>\n",
       "      <td>Strongly agree</td>\n",
       "      <td>NaN</td>\n",
       "      <td>NaN</td>\n",
       "    </tr>\n",
       "    <tr>\n",
       "      <td>4</td>\n",
       "      <td>5</td>\n",
       "      <td>Professional developer</td>\n",
       "      <td>Yes, I program as a hobby</td>\n",
       "      <td>Switzerland</td>\n",
       "      <td>No</td>\n",
       "      <td>Employed full-time</td>\n",
       "      <td>Master's degree</td>\n",
       "      <td>Computer science or software engineering</td>\n",
       "      <td>Never</td>\n",
       "      <td>10 to 19 employees</td>\n",
       "      <td>...</td>\n",
       "      <td>NaN</td>\n",
       "      <td>NaN</td>\n",
       "      <td>NaN</td>\n",
       "      <td>NaN</td>\n",
       "      <td>NaN</td>\n",
       "      <td>NaN</td>\n",
       "      <td>NaN</td>\n",
       "      <td>NaN</td>\n",
       "      <td>NaN</td>\n",
       "      <td>NaN</td>\n",
       "    </tr>\n",
       "  </tbody>\n",
       "</table>\n",
       "<p>5 rows × 154 columns</p>\n",
       "</div>"
      ],
      "text/plain": [
       "   Respondent                                       Professional  \\\n",
       "0           1                                            Student   \n",
       "1           2                                            Student   \n",
       "2           3                             Professional developer   \n",
       "3           4  Professional non-developer who sometimes write...   \n",
       "4           5                             Professional developer   \n",
       "\n",
       "                ProgramHobby         Country      University  \\\n",
       "0                  Yes, both   United States              No   \n",
       "1                  Yes, both  United Kingdom  Yes, full-time   \n",
       "2                  Yes, both  United Kingdom              No   \n",
       "3                  Yes, both   United States              No   \n",
       "4  Yes, I program as a hobby     Switzerland              No   \n",
       "\n",
       "                         EmploymentStatus  \\\n",
       "0  Not employed, and not looking for work   \n",
       "1                      Employed part-time   \n",
       "2                      Employed full-time   \n",
       "3                      Employed full-time   \n",
       "4                      Employed full-time   \n",
       "\n",
       "                                     FormalEducation  \\\n",
       "0                                   Secondary school   \n",
       "1  Some college/university study without earning ...   \n",
       "2                                  Bachelor's degree   \n",
       "3                                    Doctoral degree   \n",
       "4                                    Master's degree   \n",
       "\n",
       "                                  MajorUndergrad  \\\n",
       "0                                            NaN   \n",
       "1       Computer science or software engineering   \n",
       "2       Computer science or software engineering   \n",
       "3  A non-computer-focused engineering discipline   \n",
       "4       Computer science or software engineering   \n",
       "\n",
       "                                          HomeRemote  \\\n",
       "0                                                NaN   \n",
       "1              More than half, but not all, the time   \n",
       "2  Less than half the time, but at least one day ...   \n",
       "3  Less than half the time, but at least one day ...   \n",
       "4                                              Never   \n",
       "\n",
       "                CompanySize  ... StackOverflowMakeMoney Gender  \\\n",
       "0                       NaN  ...      Strongly disagree   Male   \n",
       "1        20 to 99 employees  ...      Strongly disagree   Male   \n",
       "2  10,000 or more employees  ...               Disagree   Male   \n",
       "3  10,000 or more employees  ...               Disagree   Male   \n",
       "4        10 to 19 employees  ...                    NaN    NaN   \n",
       "\n",
       "  HighestEducationParents                          Race         SurveyLong  \\\n",
       "0             High school  White or of European descent  Strongly disagree   \n",
       "1       A master's degree  White or of European descent     Somewhat agree   \n",
       "2   A professional degree  White or of European descent     Somewhat agree   \n",
       "3       A doctoral degree  White or of European descent              Agree   \n",
       "4                     NaN                           NaN                NaN   \n",
       "\n",
       "  QuestionsInteresting QuestionsConfusing InterestedAnswers    Salary  \\\n",
       "0       Strongly agree           Disagree    Strongly agree       NaN   \n",
       "1       Somewhat agree           Disagree    Strongly agree       NaN   \n",
       "2                Agree           Disagree             Agree  113750.0   \n",
       "3                Agree     Somewhat agree    Strongly agree       NaN   \n",
       "4                  NaN                NaN               NaN       NaN   \n",
       "\n",
       "   ExpectedSalary  \n",
       "0             NaN  \n",
       "1         37500.0  \n",
       "2             NaN  \n",
       "3             NaN  \n",
       "4             NaN  \n",
       "\n",
       "[5 rows x 154 columns]"
      ]
     },
     "execution_count": 2,
     "metadata": {},
     "output_type": "execute_result"
    }
   ],
   "source": [
    "df = pd.read_csv(data_directory)\n",
    "df.head()"
   ]
  },
  {
   "cell_type": "code",
   "execution_count": 5,
   "metadata": {},
   "outputs": [
    {
     "data": {
      "text/plain": [
       "array(['Very important', nan, 'Somewhat important', 'Important',\n",
       "       'Not very important', 'Not at all important'], dtype=object)"
      ]
     },
     "execution_count": 5,
     "metadata": {},
     "output_type": "execute_result"
    }
   ],
   "source": [
    "df[Rank2_feature[0]].unique()"
   ]
  },
  {
   "cell_type": "code",
   "execution_count": 3,
   "metadata": {},
   "outputs": [],
   "source": [
    "### Input column 과 output column에 대해 분석\n",
    "Rank_feature = ['ProblemSolving','BuildingThings','LearningNewTech','BoringDetails',\n",
    "                'JobSecurity','DiversityImportant','AnnoyingUI','FriendsDevelopers','RightWrongWay',\n",
    "                'UnderstandComputers','SeriousWork','InvestTimeTools','WorkPayCare','ChallengeMyself','CompetePeers','ChangeWorld',\n",
    "               ]\n",
    "# array(['Strongly agree', nan, 'Agree', 'Somewhat agree', 'Disagree',\n",
    "#        'Strongly disagree'], dtype=object)\n",
    "Rank2_feature = ['AssessJobRole','AssessJobRemote','AssessJobProduct','AssessJobProfDevel',\n",
    "                 'ImportantHiringEducation','ImportantHiringCommunication']\n",
    "# array(['Very important', nan, 'Somewhat important', 'Important',\n",
    "#        'Not very important', 'Not at all important'], dtype=object)\n",
    "Nomial_feature = ['FormalEducation','MajorUndergrad','EducationTypes','ImportantBenefits']\n",
    "total_input_features = Rank_feature+Rank2_feature+Nomial_feature\n",
    "Output_feature =  ['Developer type']\n",
    "Information_feature = ['CousinEducation']\n",
    "### 인코딩이 필요한 칼럼 \n",
    "Hot_encoding_needed = ['EducationTypes','CousinEducation','ImportantBenefits']"
   ]
  },
  {
   "cell_type": "code",
   "execution_count": 7,
   "metadata": {
    "scrolled": true
   },
   "outputs": [
    {
     "data": {
      "text/plain": [
       "['ProblemSolving',\n",
       " 'BuildingThings',\n",
       " 'LearningNewTech',\n",
       " 'BoringDetails',\n",
       " 'JobSecurity',\n",
       " 'DiversityImportant',\n",
       " 'AnnoyingUI',\n",
       " 'FriendsDevelopers',\n",
       " 'RightWrongWay',\n",
       " 'UnderstandComputers',\n",
       " 'SeriousWork',\n",
       " 'InvestTimeTools',\n",
       " 'WorkPayCare',\n",
       " 'ChallengeMyself',\n",
       " 'CompetePeers',\n",
       " 'ChangeWorld',\n",
       " 'AssessJobRole',\n",
       " 'AssessJobRemote',\n",
       " 'AssessJobProduct',\n",
       " 'AssessJobProfDevel',\n",
       " 'ImportantHiringEducation',\n",
       " 'ImportantHiringCommunication',\n",
       " 'FormalEducation',\n",
       " 'MajorUndergrad',\n",
       " 'EducationTypes',\n",
       " 'ImportantBenefits']"
      ]
     },
     "execution_count": 7,
     "metadata": {},
     "output_type": "execute_result"
    }
   ],
   "source": [
    "total_input_features = Rank_feature+Rank2_feature+Nomial_feature\n",
    "total_input_features"
   ]
  },
  {
   "cell_type": "code",
   "execution_count": null,
   "metadata": {},
   "outputs": [
    {
     "data": {
      "application/vnd.jupyter.widget-view+json": {
       "model_id": "7079baa4a0544029a157abcd223305ca",
       "version_major": 2,
       "version_minor": 0
      },
      "text/plain": [
       "HBox(children=(IntProgress(value=0, max=51392), HTML(value='')))"
      ]
     },
     "metadata": {},
     "output_type": "display_data"
    }
   ],
   "source": [
    "EducationTypes_df = Hot_encoding(df,'EducationTypes',dropna = False)\n",
    "EducationTypes_df.to_csv('Dataframe_folder/EducationTypes_df_HE.csv')\n",
    "ImportantBenefits_df = Hot_encoding(df,'ImportantBenefits',dropna = False)\n",
    "ImportantBenefits_df.to_csv('Dataframe_folder/ImportantBenefits_df_HE.csv')\n",
    "CousinEducation_df = Hot_encoding(df,'CousinEducation',dropna = False)\n",
    "CousinEducation_df.to_csv('Dataframe_folder/CousinEducation_df_HE.csv')\n"
   ]
  },
  {
   "cell_type": "code",
   "execution_count": 4,
   "metadata": {},
   "outputs": [
    {
     "data": {
      "text/plain": [
       "Desktop applications developer                            1433\n",
       "Embedded applications/devices developer                    664\n",
       "Mobile developer                                          1556\n",
       "DevOps specialist                                          192\n",
       "Web developer                                            10683\n",
       "Other                                                     1174\n",
       "Database administrator                                      73\n",
       "Systems administrator                                       31\n",
       "Graphic designer                                             6\n",
       "Developer with a statistics or mathematics background      485\n",
       "Data scientist                                             249\n",
       "Graphics programming                                        55\n",
       "Quality assurance engineer                                 102\n",
       "Machine learning specialist                                 44\n",
       "dtype: int64"
      ]
     },
     "execution_count": 4,
     "metadata": {},
     "output_type": "execute_result"
    }
   ],
   "source": [
    "Output_data = pd.read_csv('Dataframe_folder/DeveloperType_HE.csv',index_col = 0)\n",
    "Output_data = Output_data[Output_data.sum(axis = 1)==1]\n",
    "Output_data.sum(axis = 0)"
   ]
  },
  {
   "cell_type": "code",
   "execution_count": 11,
   "metadata": {},
   "outputs": [
    {
     "data": {
      "text/plain": [
       "(13672, 3)"
      ]
     },
     "execution_count": 11,
     "metadata": {},
     "output_type": "execute_result"
    }
   ],
   "source": [
    "Output_data = Output_data[['Mobile developer','Web developer','Desktop applications developer']]\n",
    "Output_data = Output_data[Output_data.sum(axis = 1)==1]\n",
    "Output_data.shape"
   ]
  },
  {
   "cell_type": "code",
   "execution_count": 12,
   "metadata": {},
   "outputs": [],
   "source": [
    "EducationTypes_df = pd.read_csv('Dataframe_folder/EducationTypes_df_HE.csv',index_col = 0)\n",
    "ImportantBenefits_df = pd.read_csv('Dataframe_folder/ImportantBenefits_df_HE.csv',index_col = 0)\n",
    "Dummy_df = dict()\n",
    "for feature in total_input_features:\n",
    "    Dummy_df[feature] = pd.get_dummies(df[feature])\n",
    "Dummy_df['EducationTypes'] = EducationTypes_df\n",
    "Dummy_df['ImportantBenefits'] = ImportantBenefits_df"
   ]
  },
  {
   "cell_type": "code",
   "execution_count": 13,
   "metadata": {},
   "outputs": [],
   "source": [
    "for key in Dummy_df.keys():\n",
    "    Dummy_df[key] = Dummy_df[key].loc[Output_data.index]\n",
    "with open(\"dict_object/Dummy_features.pkl\",'wb') as f :\n",
    "    pickle.dump(Dummy_df,f)"
   ]
  },
  {
   "cell_type": "code",
   "execution_count": 2,
   "metadata": {},
   "outputs": [],
   "source": [
    "with open(\"dict_object/Dummy_features.pkl\", 'rb') as f:\n",
    "    data = pickle.load(f) "
   ]
  },
  {
   "cell_type": "code",
   "execution_count": 3,
   "metadata": {},
   "outputs": [
    {
     "data": {
      "text/plain": [
       "dict_keys(['ProblemSolving', 'BuildingThings', 'LearningNewTech', 'BoringDetails', 'JobSecurity', 'DiversityImportant', 'AnnoyingUI', 'FriendsDevelopers', 'RightWrongWay', 'UnderstandComputers', 'SeriousWork', 'InvestTimeTools', 'WorkPayCare', 'ChallengeMyself', 'CompetePeers', 'ChangeWorld', 'AssessJobRole', 'AssessJobRemote', 'AssessJobProduct', 'AssessJobProfDevel', 'ImportantHiringEducation', 'ImportantHiringCommunication', 'FormalEducation', 'MajorUndergrad', 'EducationTypes', 'ImportantBenefits'])"
      ]
     },
     "execution_count": 3,
     "metadata": {},
     "output_type": "execute_result"
    }
   ],
   "source": [
    "data.keys()"
   ]
  },
  {
   "cell_type": "code",
   "execution_count": 4,
   "metadata": {},
   "outputs": [
    {
     "data": {
      "text/plain": [
       "{'ProblemSolving':        Agree  Disagree  Somewhat agree  Strongly agree  Strongly disagree\n",
       " 7          0         0               0               0                  0\n",
       " 11         0         0               0               0                  0\n",
       " 13         0         0               0               0                  0\n",
       " 15         0         0               0               1                  0\n",
       " 16         1         0               0               0                  0\n",
       " ...      ...       ...             ...             ...                ...\n",
       " 51372      0         0               0               0                  0\n",
       " 51374      1         0               0               0                  0\n",
       " 51377      0         0               0               0                  0\n",
       " 51382      0         0               0               1                  0\n",
       " 51384      0         0               0               1                  0\n",
       " \n",
       " [13672 rows x 5 columns],\n",
       " 'BuildingThings':        Agree  Disagree  Somewhat agree  Strongly agree  Strongly disagree\n",
       " 7          0         0               0               0                  0\n",
       " 11         0         0               0               0                  0\n",
       " 13         0         0               0               0                  0\n",
       " 15         0         0               0               1                  0\n",
       " 16         0         0               0               1                  0\n",
       " ...      ...       ...             ...             ...                ...\n",
       " 51372      0         0               0               0                  0\n",
       " 51374      0         0               0               1                  0\n",
       " 51377      0         0               0               0                  0\n",
       " 51382      0         0               0               1                  0\n",
       " 51384      0         0               0               1                  0\n",
       " \n",
       " [13672 rows x 5 columns],\n",
       " 'LearningNewTech':        Agree  Disagree  Somewhat agree  Strongly agree  Strongly disagree\n",
       " 7          0         0               0               0                  0\n",
       " 11         0         0               0               0                  0\n",
       " 13         0         0               0               0                  0\n",
       " 15         0         0               0               1                  0\n",
       " 16         1         0               0               0                  0\n",
       " ...      ...       ...             ...             ...                ...\n",
       " 51372      0         0               0               0                  0\n",
       " 51374      1         0               0               0                  0\n",
       " 51377      0         0               0               0                  0\n",
       " 51382      1         0               0               0                  0\n",
       " 51384      1         0               0               0                  0\n",
       " \n",
       " [13672 rows x 5 columns],\n",
       " 'BoringDetails':        Agree  Disagree  Somewhat agree  Strongly agree  Strongly disagree\n",
       " 7          0         0               0               0                  0\n",
       " 11         0         0               0               0                  0\n",
       " 13         0         0               0               0                  0\n",
       " 15         0         1               0               0                  0\n",
       " 16         0         0               0               0                  1\n",
       " ...      ...       ...             ...             ...                ...\n",
       " 51372      0         0               0               0                  0\n",
       " 51374      0         0               0               1                  0\n",
       " 51377      0         0               0               0                  0\n",
       " 51382      0         0               1               0                  0\n",
       " 51384      0         0               1               0                  0\n",
       " \n",
       " [13672 rows x 5 columns],\n",
       " 'JobSecurity':        Agree  Disagree  Somewhat agree  Strongly agree  Strongly disagree\n",
       " 7          0         0               0               0                  0\n",
       " 11         0         0               0               0                  0\n",
       " 13         0         0               0               0                  0\n",
       " 15         0         0               1               0                  0\n",
       " 16         1         0               0               0                  0\n",
       " ...      ...       ...             ...             ...                ...\n",
       " 51372      0         0               0               0                  0\n",
       " 51374      0         0               0               1                  0\n",
       " 51377      0         0               0               0                  0\n",
       " 51382      1         0               0               0                  0\n",
       " 51384      0         0               1               0                  0\n",
       " \n",
       " [13672 rows x 5 columns],\n",
       " 'DiversityImportant':        Agree  Disagree  Somewhat agree  Strongly agree  Strongly disagree\n",
       " 7          0         0               0               0                  0\n",
       " 11         0         0               0               0                  0\n",
       " 13         0         0               0               0                  0\n",
       " 15         0         0               0               0                  1\n",
       " 16         0         0               0               1                  0\n",
       " ...      ...       ...             ...             ...                ...\n",
       " 51372      0         0               0               0                  0\n",
       " 51374      0         0               1               0                  0\n",
       " 51377      0         0               0               0                  0\n",
       " 51382      1         0               0               0                  0\n",
       " 51384      1         0               0               0                  0\n",
       " \n",
       " [13672 rows x 5 columns],\n",
       " 'AnnoyingUI':        Agree  Disagree  Somewhat agree  Strongly agree  Strongly disagree\n",
       " 7          0         0               0               0                  0\n",
       " 11         0         0               0               0                  0\n",
       " 13         0         0               0               0                  0\n",
       " 15         1         0               0               0                  0\n",
       " 16         0         0               0               1                  0\n",
       " ...      ...       ...             ...             ...                ...\n",
       " 51372      0         0               0               0                  0\n",
       " 51374      0         0               0               1                  0\n",
       " 51377      0         0               0               0                  0\n",
       " 51382      0         0               0               1                  0\n",
       " 51384      1         0               0               0                  0\n",
       " \n",
       " [13672 rows x 5 columns],\n",
       " 'FriendsDevelopers':        Agree  Disagree  Somewhat agree  Strongly agree  Strongly disagree\n",
       " 7          0         0               0               0                  0\n",
       " 11         0         0               0               0                  0\n",
       " 13         0         0               0               0                  0\n",
       " 15         0         1               0               0                  0\n",
       " 16         0         0               0               0                  1\n",
       " ...      ...       ...             ...             ...                ...\n",
       " 51372      0         0               0               0                  0\n",
       " 51374      0         0               0               1                  0\n",
       " 51377      0         0               0               0                  0\n",
       " 51382      1         0               0               0                  0\n",
       " 51384      1         0               0               0                  0\n",
       " \n",
       " [13672 rows x 5 columns],\n",
       " 'RightWrongWay':        Agree  Disagree  Somewhat agree  Strongly agree  Strongly disagree\n",
       " 7          0         0               0               0                  0\n",
       " 11         0         0               0               0                  0\n",
       " 13         0         0               0               0                  0\n",
       " 15         1         0               0               0                  0\n",
       " 16         0         1               0               0                  0\n",
       " ...      ...       ...             ...             ...                ...\n",
       " 51372      0         0               0               0                  0\n",
       " 51374      0         1               0               0                  0\n",
       " 51377      0         0               0               0                  0\n",
       " 51382      0         0               1               0                  0\n",
       " 51384      0         0               0               0                  1\n",
       " \n",
       " [13672 rows x 5 columns],\n",
       " 'UnderstandComputers':        Agree  Disagree  Somewhat agree  Strongly agree  Strongly disagree\n",
       " 7          0         0               0               0                  0\n",
       " 11         0         0               0               0                  0\n",
       " 13         0         0               0               0                  0\n",
       " 15         0         1               0               0                  0\n",
       " 16         0         0               0               1                  0\n",
       " ...      ...       ...             ...             ...                ...\n",
       " 51372      0         0               0               0                  0\n",
       " 51374      1         0               0               0                  0\n",
       " 51377      0         0               0               0                  0\n",
       " 51382      1         0               0               0                  0\n",
       " 51384      0         1               0               0                  0\n",
       " \n",
       " [13672 rows x 5 columns],\n",
       " 'SeriousWork':        Agree  Disagree  Somewhat agree  Strongly agree  Strongly disagree\n",
       " 7          0         0               0               0                  0\n",
       " 11         0         0               0               0                  0\n",
       " 13         0         0               0               0                  0\n",
       " 15         1         0               0               0                  0\n",
       " 16         0         0               0               1                  0\n",
       " ...      ...       ...             ...             ...                ...\n",
       " 51372      0         0               0               0                  0\n",
       " 51374      0         0               1               0                  0\n",
       " 51377      0         0               0               0                  0\n",
       " 51382      0         0               0               1                  0\n",
       " 51384      1         0               0               0                  0\n",
       " \n",
       " [13672 rows x 5 columns],\n",
       " 'InvestTimeTools':        Agree  Disagree  Somewhat agree  Strongly agree  Strongly disagree\n",
       " 7          0         0               0               0                  0\n",
       " 11         0         0               0               0                  0\n",
       " 13         0         0               0               0                  0\n",
       " 15         1         0               0               0                  0\n",
       " 16         1         0               0               0                  0\n",
       " ...      ...       ...             ...             ...                ...\n",
       " 51372      0         0               0               0                  0\n",
       " 51374      0         0               0               1                  0\n",
       " 51377      0         0               0               0                  0\n",
       " 51382      1         0               0               0                  0\n",
       " 51384      1         0               0               0                  0\n",
       " \n",
       " [13672 rows x 5 columns],\n",
       " 'WorkPayCare':        Agree  Disagree  Somewhat agree  Strongly agree  Strongly disagree\n",
       " 7          0         0               0               0                  0\n",
       " 11         0         0               0               0                  0\n",
       " 13         0         0               0               0                  0\n",
       " 15         0         0               1               0                  0\n",
       " 16         0         0               0               0                  1\n",
       " ...      ...       ...             ...             ...                ...\n",
       " 51372      0         0               0               0                  0\n",
       " 51374      0         0               0               0                  1\n",
       " 51377      0         0               0               0                  0\n",
       " 51382      0         0               0               0                  1\n",
       " 51384      0         0               1               0                  0\n",
       " \n",
       " [13672 rows x 5 columns],\n",
       " 'ChallengeMyself':        Agree  Disagree  Somewhat agree  Strongly agree  Strongly disagree\n",
       " 7          0         0               0               0                  0\n",
       " 11         0         0               0               0                  0\n",
       " 13         0         0               0               0                  0\n",
       " 15         1         0               0               0                  0\n",
       " 16         1         0               0               0                  0\n",
       " ...      ...       ...             ...             ...                ...\n",
       " 51372      0         0               0               0                  0\n",
       " 51374      0         0               0               1                  0\n",
       " 51377      0         0               0               0                  0\n",
       " 51382      0         0               0               1                  0\n",
       " 51384      1         0               0               0                  0\n",
       " \n",
       " [13672 rows x 5 columns],\n",
       " 'CompetePeers':        Agree  Disagree  Somewhat agree  Strongly agree  Strongly disagree\n",
       " 7          0         0               0               0                  0\n",
       " 11         0         0               0               0                  0\n",
       " 13         0         0               0               0                  0\n",
       " 15         0         0               1               0                  0\n",
       " 16         0         0               0               0                  1\n",
       " ...      ...       ...             ...             ...                ...\n",
       " 51372      0         0               0               0                  0\n",
       " 51374      1         0               0               0                  0\n",
       " 51377      0         0               0               0                  0\n",
       " 51382      1         0               0               0                  0\n",
       " 51384      0         1               0               0                  0\n",
       " \n",
       " [13672 rows x 5 columns],\n",
       " 'ChangeWorld':        Agree  Disagree  Somewhat agree  Strongly agree  Strongly disagree\n",
       " 7          0         0               0               0                  0\n",
       " 11         0         0               0               0                  0\n",
       " 13         0         0               0               0                  0\n",
       " 15         1         0               0               0                  0\n",
       " 16         0         0               0               1                  0\n",
       " ...      ...       ...             ...             ...                ...\n",
       " 51372      0         0               0               0                  0\n",
       " 51374      0         1               0               0                  0\n",
       " 51377      0         0               0               0                  0\n",
       " 51382      1         0               0               0                  0\n",
       " 51384      0         0               1               0                  0\n",
       " \n",
       " [13672 rows x 5 columns],\n",
       " 'AssessJobRole':        Important  Not at all important  Not very important  \\\n",
       " 7              1                     0                   0   \n",
       " 11             0                     0                   0   \n",
       " 13             1                     0                   0   \n",
       " 15             0                     0                   1   \n",
       " 16             0                     0                   1   \n",
       " ...          ...                   ...                 ...   \n",
       " 51372          1                     0                   0   \n",
       " 51374          0                     0                   0   \n",
       " 51377          0                     0                   0   \n",
       " 51382          0                     0                   1   \n",
       " 51384          1                     0                   0   \n",
       " \n",
       "        Somewhat important  Very important  \n",
       " 7                       0               0  \n",
       " 11                      0               0  \n",
       " 13                      0               0  \n",
       " 15                      0               0  \n",
       " 16                      0               0  \n",
       " ...                   ...             ...  \n",
       " 51372                   0               0  \n",
       " 51374                   1               0  \n",
       " 51377                   0               1  \n",
       " 51382                   0               0  \n",
       " 51384                   0               0  \n",
       " \n",
       " [13672 rows x 5 columns],\n",
       " 'AssessJobRemote':        Important  Not at all important  Not very important  \\\n",
       " 7              0                     0                   0   \n",
       " 11             0                     0                   0   \n",
       " 13             1                     0                   0   \n",
       " 15             0                     0                   0   \n",
       " 16             1                     0                   0   \n",
       " ...          ...                   ...                 ...   \n",
       " 51372          0                     0                   0   \n",
       " 51374          0                     0                   0   \n",
       " 51377          0                     0                   0   \n",
       " 51382          0                     0                   1   \n",
       " 51384          0                     0                   0   \n",
       " \n",
       "        Somewhat important  Very important  \n",
       " 7                       1               0  \n",
       " 11                      0               0  \n",
       " 13                      0               0  \n",
       " 15                      0               1  \n",
       " 16                      0               0  \n",
       " ...                   ...             ...  \n",
       " 51372                   1               0  \n",
       " 51374                   1               0  \n",
       " 51377                   1               0  \n",
       " 51382                   0               0  \n",
       " 51384                   1               0  \n",
       " \n",
       " [13672 rows x 5 columns],\n",
       " 'AssessJobProduct':        Important  Not at all important  Not very important  \\\n",
       " 7              0                     0                   0   \n",
       " 11             0                     0                   0   \n",
       " 13             1                     0                   0   \n",
       " 15             1                     0                   0   \n",
       " 16             0                     0                   0   \n",
       " ...          ...                   ...                 ...   \n",
       " 51372          0                     1                   0   \n",
       " 51374          0                     0                   0   \n",
       " 51377          0                     0                   1   \n",
       " 51382          0                     0                   0   \n",
       " 51384          0                     0                   0   \n",
       " \n",
       "        Somewhat important  Very important  \n",
       " 7                       1               0  \n",
       " 11                      0               0  \n",
       " 13                      0               0  \n",
       " 15                      0               0  \n",
       " 16                      0               1  \n",
       " ...                   ...             ...  \n",
       " 51372                   0               0  \n",
       " 51374                   1               0  \n",
       " 51377                   0               0  \n",
       " 51382                   1               0  \n",
       " 51384                   1               0  \n",
       " \n",
       " [13672 rows x 5 columns],\n",
       " 'AssessJobProfDevel':        Important  Not at all important  Not very important  \\\n",
       " 7              1                     0                   0   \n",
       " 11             0                     0                   0   \n",
       " 13             1                     0                   0   \n",
       " 15             0                     0                   0   \n",
       " 16             1                     0                   0   \n",
       " ...          ...                   ...                 ...   \n",
       " 51372          0                     0                   0   \n",
       " 51374          0                     0                   0   \n",
       " 51377          1                     0                   0   \n",
       " 51382          0                     0                   0   \n",
       " 51384          0                     0                   0   \n",
       " \n",
       "        Somewhat important  Very important  \n",
       " 7                       0               0  \n",
       " 11                      0               0  \n",
       " 13                      0               0  \n",
       " 15                      1               0  \n",
       " 16                      0               0  \n",
       " ...                   ...             ...  \n",
       " 51372                   1               0  \n",
       " 51374                   0               1  \n",
       " 51377                   0               0  \n",
       " 51382                   1               0  \n",
       " 51384                   0               1  \n",
       " \n",
       " [13672 rows x 5 columns],\n",
       " 'ImportantHiringEducation':        Important  Not at all important  Not very important  \\\n",
       " 7              0                     0                   0   \n",
       " 11             0                     0                   0   \n",
       " 13             0                     0                   1   \n",
       " 15             0                     0                   1   \n",
       " 16             0                     0                   0   \n",
       " ...          ...                   ...                 ...   \n",
       " 51372          0                     0                   0   \n",
       " 51374          0                     0                   0   \n",
       " 51377          0                     0                   0   \n",
       " 51382          0                     0                   0   \n",
       " 51384          1                     0                   0   \n",
       " \n",
       "        Somewhat important  Very important  \n",
       " 7                       1               0  \n",
       " 11                      0               0  \n",
       " 13                      0               0  \n",
       " 15                      0               0  \n",
       " 16                      0               0  \n",
       " ...                   ...             ...  \n",
       " 51372                   1               0  \n",
       " 51374                   0               0  \n",
       " 51377                   0               1  \n",
       " 51382                   0               0  \n",
       " 51384                   0               0  \n",
       " \n",
       " [13672 rows x 5 columns],\n",
       " 'ImportantHiringCommunication':        Important  Not at all important  Not very important  \\\n",
       " 7              1                     0                   0   \n",
       " 11             0                     0                   0   \n",
       " 13             1                     0                   0   \n",
       " 15             0                     0                   0   \n",
       " 16             0                     0                   0   \n",
       " ...          ...                   ...                 ...   \n",
       " 51372          0                     0                   0   \n",
       " 51374          0                     0                   0   \n",
       " 51377          0                     0                   0   \n",
       " 51382          0                     0                   0   \n",
       " 51384          0                     0                   0   \n",
       " \n",
       "        Somewhat important  Very important  \n",
       " 7                       0               0  \n",
       " 11                      0               0  \n",
       " 13                      0               0  \n",
       " 15                      1               0  \n",
       " 16                      0               0  \n",
       " ...                   ...             ...  \n",
       " 51372                   1               0  \n",
       " 51374                   0               0  \n",
       " 51377                   0               1  \n",
       " 51382                   0               0  \n",
       " 51384                   0               1  \n",
       " \n",
       " [13672 rows x 5 columns],\n",
       " 'FormalEducation':        Bachelor's degree  Doctoral degree  \\\n",
       " 7                      0                0   \n",
       " 11                     1                0   \n",
       " 13                     0                0   \n",
       " 15                     0                0   \n",
       " 16                     0                0   \n",
       " ...                  ...              ...   \n",
       " 51372                  0                0   \n",
       " 51374                  1                0   \n",
       " 51377                  1                0   \n",
       " 51382                  0                0   \n",
       " 51384                  1                0   \n",
       " \n",
       "        I never completed any formal education  I prefer not to answer  \\\n",
       " 7                                           0                       0   \n",
       " 11                                          0                       0   \n",
       " 13                                          0                       0   \n",
       " 15                                          0                       0   \n",
       " 16                                          0                       0   \n",
       " ...                                       ...                     ...   \n",
       " 51372                                       0                       0   \n",
       " 51374                                       0                       0   \n",
       " 51377                                       0                       0   \n",
       " 51382                                       0                       0   \n",
       " 51384                                       0                       0   \n",
       " \n",
       "        Master's degree  Primary/elementary school  Professional degree  \\\n",
       " 7                    1                          0                    0   \n",
       " 11                   0                          0                    0   \n",
       " 13                   0                          0                    0   \n",
       " 15                   0                          1                    0   \n",
       " 16                   0                          0                    0   \n",
       " ...                ...                        ...                  ...   \n",
       " 51372                0                          0                    0   \n",
       " 51374                0                          0                    0   \n",
       " 51377                0                          0                    0   \n",
       " 51382                1                          0                    0   \n",
       " 51384                0                          0                    0   \n",
       " \n",
       "        Secondary school  \\\n",
       " 7                     0   \n",
       " 11                    0   \n",
       " 13                    0   \n",
       " 15                    0   \n",
       " 16                    1   \n",
       " ...                 ...   \n",
       " 51372                 1   \n",
       " 51374                 0   \n",
       " 51377                 0   \n",
       " 51382                 0   \n",
       " 51384                 0   \n",
       " \n",
       "        Some college/university study without earning a bachelor's degree  \n",
       " 7                                                      0                  \n",
       " 11                                                     0                  \n",
       " 13                                                     1                  \n",
       " 15                                                     0                  \n",
       " 16                                                     0                  \n",
       " ...                                                  ...                  \n",
       " 51372                                                  0                  \n",
       " 51374                                                  0                  \n",
       " 51377                                                  0                  \n",
       " 51382                                                  0                  \n",
       " 51384                                                  0                  \n",
       " \n",
       " [13672 rows x 9 columns],\n",
       " 'MajorUndergrad':        A business discipline  A health science  A humanities discipline  \\\n",
       " 7                          0                 0                        0   \n",
       " 11                         0                 0                        0   \n",
       " 13                         0                 0                        0   \n",
       " 15                         0                 0                        0   \n",
       " 16                         0                 0                        0   \n",
       " ...                      ...               ...                      ...   \n",
       " 51372                      0                 0                        0   \n",
       " 51374                      0                 0                        0   \n",
       " 51377                      0                 0                        0   \n",
       " 51382                      0                 0                        0   \n",
       " 51384                      0                 0                        0   \n",
       " \n",
       "        A natural science  A non-computer-focused engineering discipline  \\\n",
       " 7                      0                                              0   \n",
       " 11                     0                                              0   \n",
       " 13                     0                                              0   \n",
       " 15                     0                                              0   \n",
       " 16                     0                                              0   \n",
       " ...                  ...                                            ...   \n",
       " 51372                  0                                              0   \n",
       " 51374                  0                                              0   \n",
       " 51377                  0                                              0   \n",
       " 51382                  0                                              0   \n",
       " 51384                  0                                              0   \n",
       " \n",
       "        A social science  \\\n",
       " 7                     0   \n",
       " 11                    0   \n",
       " 13                    0   \n",
       " 15                    0   \n",
       " 16                    0   \n",
       " ...                 ...   \n",
       " 51372                 0   \n",
       " 51374                 0   \n",
       " 51377                 0   \n",
       " 51382                 0   \n",
       " 51384                 0   \n",
       " \n",
       "        Computer engineering or electrical/electronics engineering  \\\n",
       " 7                                                      0            \n",
       " 11                                                     0            \n",
       " 13                                                     0            \n",
       " 15                                                     0            \n",
       " 16                                                     0            \n",
       " ...                                                  ...            \n",
       " 51372                                                  0            \n",
       " 51374                                                  0            \n",
       " 51377                                                  0            \n",
       " 51382                                                  0            \n",
       " 51384                                                  0            \n",
       " \n",
       "        Computer programming or Web development  \\\n",
       " 7                                            0   \n",
       " 11                                           0   \n",
       " 13                                           0   \n",
       " 15                                           0   \n",
       " 16                                           0   \n",
       " ...                                        ...   \n",
       " 51372                                        0   \n",
       " 51374                                        0   \n",
       " 51377                                        0   \n",
       " 51382                                        0   \n",
       " 51384                                        1   \n",
       " \n",
       "        Computer science or software engineering  Fine arts or performing arts  \\\n",
       " 7                                             1                             0   \n",
       " 11                                            1                             0   \n",
       " 13                                            1                             0   \n",
       " 15                                            0                             0   \n",
       " 16                                            0                             0   \n",
       " ...                                         ...                           ...   \n",
       " 51372                                         0                             0   \n",
       " 51374                                         1                             0   \n",
       " 51377                                         1                             0   \n",
       " 51382                                         1                             0   \n",
       " 51384                                         0                             0   \n",
       " \n",
       "        I never declared a major  \\\n",
       " 7                             0   \n",
       " 11                            0   \n",
       " 13                            0   \n",
       " 15                            0   \n",
       " 16                            0   \n",
       " ...                         ...   \n",
       " 51372                         0   \n",
       " 51374                         0   \n",
       " 51377                         0   \n",
       " 51382                         0   \n",
       " 51384                         0   \n",
       " \n",
       "        Information technology, networking, or system administration  \\\n",
       " 7                                                      0              \n",
       " 11                                                     0              \n",
       " 13                                                     0              \n",
       " 15                                                     0              \n",
       " 16                                                     0              \n",
       " ...                                                  ...              \n",
       " 51372                                                  0              \n",
       " 51374                                                  0              \n",
       " 51377                                                  0              \n",
       " 51382                                                  0              \n",
       " 51384                                                  0              \n",
       " \n",
       "        Management information systems  Mathematics or statistics  Psychology  \\\n",
       " 7                                   0                          0           0   \n",
       " 11                                  0                          0           0   \n",
       " 13                                  0                          0           0   \n",
       " 15                                  0                          0           0   \n",
       " 16                                  0                          0           0   \n",
       " ...                               ...                        ...         ...   \n",
       " 51372                               0                          0           0   \n",
       " 51374                               0                          0           0   \n",
       " 51377                               0                          0           0   \n",
       " 51382                               0                          0           0   \n",
       " 51384                               0                          0           0   \n",
       " \n",
       "        Something else  \n",
       " 7                   0  \n",
       " 11                  0  \n",
       " 13                  0  \n",
       " 15                  0  \n",
       " 16                  0  \n",
       " ...               ...  \n",
       " 51372               0  \n",
       " 51374               0  \n",
       " 51377               0  \n",
       " 51382               0  \n",
       " 51384               0  \n",
       " \n",
       " [13672 rows x 16 columns],\n",
       " 'EducationTypes':        Self-taught  Bootcamp  Industry certification  \\\n",
       " 7                1         0                       0   \n",
       " 11               0         0                       0   \n",
       " 13               1         0                       0   \n",
       " 15               0         0                       0   \n",
       " 16               1         1                       1   \n",
       " ...            ...       ...                     ...   \n",
       " 51372            1         1                       0   \n",
       " 51374            1         0                       0   \n",
       " 51377            0         0                       0   \n",
       " 51382            1         0                       0   \n",
       " 51384            1         0                       0   \n",
       " \n",
       "        Open source contributions  Coding competition  On-the-job training  \\\n",
       " 7                              1                   1                    1   \n",
       " 11                             0                   0                    0   \n",
       " 13                             1                   1                    1   \n",
       " 15                             0                   0                    0   \n",
       " 16                             1                   1                    1   \n",
       " ...                          ...                 ...                  ...   \n",
       " 51372                          0                   0                    0   \n",
       " 51374                          0                   0                    1   \n",
       " 51377                          0                   0                    0   \n",
       " 51382                          0                   0                    0   \n",
       " 51384                          0                   0                    1   \n",
       " \n",
       "        Online course  Hackathon  Part-time/evening course  \n",
       " 7                  1          1                         0  \n",
       " 11                 0          0                         0  \n",
       " 13                 0          1                         1  \n",
       " 15                 0          0                         0  \n",
       " 16                 1          1                         0  \n",
       " ...              ...        ...                       ...  \n",
       " 51372              0          1                         0  \n",
       " 51374              0          1                         0  \n",
       " 51377              0          0                         0  \n",
       " 51382              0          0                         0  \n",
       " 51384              0          0                         0  \n",
       " \n",
       " [13672 rows x 9 columns],\n",
       " 'ImportantBenefits':        Annual bonus  Other  Remote options  Charitable match  Stock options  \\\n",
       " 7                 0      0               1                 0              0   \n",
       " 11                0      0               0                 0              0   \n",
       " 13                0      0               1                 0              1   \n",
       " 15                0      0               1                 0              0   \n",
       " 16                0      0               1                 0              0   \n",
       " ...             ...    ...             ...               ...            ...   \n",
       " 51372             0      0               1                 0              0   \n",
       " 51374             0      0               1                 0              0   \n",
       " 51377             1      0               1                 0              0   \n",
       " 51382             0      0               0                 0              0   \n",
       " 51384             0      0               1                 0              0   \n",
       " \n",
       "        Vacation/days off  Health benefits  Education sponsorship  \\\n",
       " 7                      0                0                      0   \n",
       " 11                     0                0                      0   \n",
       " 13                     1                0                      0   \n",
       " 15                     0                0                      0   \n",
       " 16                     1                1                      0   \n",
       " ...                  ...              ...                    ...   \n",
       " 51372                  0                0                      0   \n",
       " 51374                  0                0                      0   \n",
       " 51377                  0                0                      0   \n",
       " 51382                  1                1                      0   \n",
       " 51384                  1                0                      0   \n",
       " \n",
       "        Long-term leave  None of these  Expected work hours  Private office  \\\n",
       " 7                    0              0                    1               0   \n",
       " 11                   0              0                    0               0   \n",
       " 13                   0              0                    0               0   \n",
       " 15                   0              0                    1               1   \n",
       " 16                   0              0                    1               0   \n",
       " ...                ...            ...                  ...             ...   \n",
       " 51372                0              0                    0               1   \n",
       " 51374                0              0                    1               0   \n",
       " 51377                0              0                    1               0   \n",
       " 51382                0              0                    1               0   \n",
       " 51384                0              0                    0               0   \n",
       " \n",
       "        Professional development sponsorship  Retirement  Equipment  Meals  \\\n",
       " 7                                         1           0          1      0   \n",
       " 11                                        0           0          0      0   \n",
       " 13                                        1           0          1      0   \n",
       " 15                                        0           0          1      1   \n",
       " 16                                        0           0          0      1   \n",
       " ...                                     ...         ...        ...    ...   \n",
       " 51372                                     0           0          0      0   \n",
       " 51374                                     1           0          0      0   \n",
       " 51377                                     1           0          1      0   \n",
       " 51382                                     0           1          0      1   \n",
       " 51384                                     1           1          1      0   \n",
       " \n",
       "        Child/elder care  \n",
       " 7                     0  \n",
       " 11                    0  \n",
       " 13                    0  \n",
       " 15                    0  \n",
       " 16                    0  \n",
       " ...                 ...  \n",
       " 51372                 0  \n",
       " 51374                 0  \n",
       " 51377                 0  \n",
       " 51382                 0  \n",
       " 51384                 0  \n",
       " \n",
       " [13672 rows x 17 columns]}"
      ]
     },
     "execution_count": 4,
     "metadata": {},
     "output_type": "execute_result"
    }
   ],
   "source": [
    "data"
   ]
  },
  {
   "cell_type": "code",
   "execution_count": 9,
   "metadata": {},
   "outputs": [
    {
     "data": {
      "text/plain": [
       "Index(['A business discipline', 'A health science', 'A humanities discipline',\n",
       "       'A natural science', 'A non-computer-focused engineering discipline',\n",
       "       'A social science',\n",
       "       'Computer engineering or electrical/electronics engineering',\n",
       "       'Computer programming or Web development',\n",
       "       'Computer science or software engineering',\n",
       "       'Fine arts or performing arts', 'I never declared a major',\n",
       "       'Information technology, networking, or system administration',\n",
       "       'Management information systems', 'Mathematics or statistics',\n",
       "       'Psychology', 'Something else'],\n",
       "      dtype='object')"
      ]
     },
     "execution_count": 9,
     "metadata": {},
     "output_type": "execute_result"
    }
   ],
   "source": [
    "data['MajorUndergrad'].columns"
   ]
  },
  {
   "cell_type": "code",
   "execution_count": 85,
   "metadata": {},
   "outputs": [],
   "source": [
    "dummy_df_list = []\n",
    "for key in Dummy_df.keys():\n",
    "    dummy_df_list.append(Dummy_df[key])\n",
    "Input_data = np.concatenate(dummy_df_list,axis = 1)"
   ]
  },
  {
   "cell_type": "code",
   "execution_count": 173,
   "metadata": {},
   "outputs": [
    {
     "data": {
      "text/plain": [
       "(array([0, 1, 2], dtype=int64), array([ 1556, 10683,  1433], dtype=int64))"
      ]
     },
     "execution_count": 173,
     "metadata": {},
     "output_type": "execute_result"
    }
   ],
   "source": [
    "np.unique(np.argmax(Output_data.values,axis = 1),return_counts=True)"
   ]
  },
  {
   "cell_type": "code",
   "execution_count": 174,
   "metadata": {},
   "outputs": [],
   "source": [
    "labels = np.argmax(Output_data.values,axis = 1)"
   ]
  },
  {
   "cell_type": "code",
   "execution_count": 194,
   "metadata": {},
   "outputs": [],
   "source": [
    "np.save(\"numpy_array_data/Input_data\",Input_data)\n",
    "np.save(\"numpy_array_data/label_data\",labels)"
   ]
  },
  {
   "cell_type": "code",
   "execution_count": 175,
   "metadata": {},
   "outputs": [],
   "source": [
    "trainX, testX, trainY, testY = train_test_split(Input_data, labels, test_size=0.2, random_state=42)"
   ]
  },
  {
   "cell_type": "code",
   "execution_count": 176,
   "metadata": {},
   "outputs": [
    {
     "name": "stdout",
     "output_type": "stream",
     "text": [
      "trainX : (10937, 161)\n",
      "trainX : (10937,)\n",
      "trainX : (2735, 161)\n",
      "trainX : (2735,)\n"
     ]
    }
   ],
   "source": [
    "print(\"trainX :\",trainX.shape)\n",
    "print(\"trainX :\",trainY.shape)\n",
    "print(\"trainX :\",testX.shape)\n",
    "print(\"trainX :\",testY.shape)"
   ]
  },
  {
   "cell_type": "code",
   "execution_count": 177,
   "metadata": {},
   "outputs": [],
   "source": [
    "def getModel(arr):\n",
    "    model=Sequential()\n",
    "    for i in range(len(arr)):\n",
    "        if i!=0 and i!=len(arr)-1:\n",
    "            if i==1:\n",
    "                model.add(Dense(arr[i],input_dim=arr[0],kernel_initializer='normal', activation='relu'))\n",
    "            else:\n",
    "                model.add(Dense(arr[i],activation='relu'))\n",
    "    model.add(Dense(arr[-1],kernel_initializer='normal',activation='softmax'))\n",
    "    model.compile(loss='sparse_categorical_crossentropy',optimizer='adam',metrics=['accuracy'])\n",
    "    # catego\n",
    "    return model\n",
    "Original_Model=getModel([161,50,3])"
   ]
  },
  {
   "cell_type": "code",
   "execution_count": 181,
   "metadata": {
    "scrolled": true
   },
   "outputs": [
    {
     "name": "stderr",
     "output_type": "stream",
     "text": [
      "W1007 12:02:51.095944  4748 legend.py:1282] No handles with labels found to put in legend.\n"
     ]
    },
    {
     "data": {
      "image/png": "[encoded data removed]",
      "text/plain": [
       "<Figure size 432x288 with 1 Axes>"
      ]
     },
     "metadata": {
      "needs_background": "light"
     },
     "output_type": "display_data"
    },
    {
     "data": {
      "text/plain": [
       "<keras.callbacks.History at 0x641e17f0>"
      ]
     },
     "execution_count": 181,
     "metadata": {},
     "output_type": "execute_result"
    }
   ],
   "source": [
    "### Artificial neuron network \n",
    "firstModel.fit(np.array(trainX),np.array(trainY),epochs=40,callbacks=[plot_losses])"
   ]
  },
  {
   "cell_type": "code",
   "execution_count": 216,
   "metadata": {},
   "outputs": [],
   "source": [
    "### XGBoost\n",
    "XGBmodel = XGBClassifier()\n",
    "XGBmodel.fit(trainX,trainY)\n",
    "predictions = XGBmodel.predict(testX)"
   ]
  },
  {
   "cell_type": "code",
   "execution_count": 228,
   "metadata": {},
   "outputs": [
    {
     "name": "stdout",
     "output_type": "stream",
     "text": [
      "accuracy 0.7886654478976234\n",
      "0.7886654478976234\n"
     ]
    }
   ],
   "source": [
    "print (\"accuracy\" , metrics.accuracy_score(testY, predictions))\n",
    "print(np.unique(testY,return_counts = True)[1][1]/np.sum(np.unique(testY,return_counts = True)[1]))"
   ]
  },
  {
   "cell_type": "code",
   "execution_count": 227,
   "metadata": {},
   "outputs": [
    {
     "data": {
      "text/plain": [
       "(array([1], dtype=int64), array([2735], dtype=int64))"
      ]
     },
     "execution_count": 227,
     "metadata": {},
     "output_type": "execute_result"
    }
   ],
   "source": [
    "np.unique(predictions,return_counts = True)"
   ]
  },
  {
   "cell_type": "code",
   "execution_count": 225,
   "metadata": {},
   "outputs": [
    {
     "name": "stdout",
     "output_type": "stream",
     "text": [
      "Mobile accuracy : 0.0\n",
      "Web accuracy : 100.0\n",
      "Desk accuracy : 0.0\n"
     ]
    }
   ],
   "source": [
    "# 0 = 'Mobile'\n",
    "# 1 = 'Web'\n",
    "# 2 = 'Desk'\n",
    "Mobile =0\n",
    "Web = 0\n",
    "Desk = 0\n",
    "np.unique(testY,return_counts = True)[1]\n",
    "for i in range(predictions.shape[0]) :\n",
    "    if testY[i] == predictions[i] :\n",
    "        if testY[i] == 0 :\n",
    "            Mobile += 1\n",
    "        elif testY[i] == 1 :\n",
    "            Web += 1\n",
    "        else :\n",
    "            Desk += 1\n",
    "print(\"Mobile accuracy :\", Mobile/np.unique(testY,return_counts = True)[1][0]*100)\n",
    "print(\"Web accuracy :\", Web/np.unique(testY,return_counts = True)[1][1]*100)\n",
    "print(\"Desk accuracy :\", Desk/np.unique(testY,return_counts = True)[1][2]*100)\n",
    "        "
   ]
  },
  {
   "cell_type": "code",
   "execution_count": 183,
   "metadata": {},
   "outputs": [],
   "source": [
    "model_yaml = firstModel.to_yaml()\n",
    "with open(\"Model_folder/ANN_model_unimbal.yaml\", \"w\") as yaml_file:\n",
    "    yaml_file.write(model_yaml)\n",
    "# serialize weights to HDF5\n",
    "firstModel.save_weights(\"Model_folder/model_3_unimbal.h5\")"
   ]
  },
  {
   "cell_type": "code",
   "execution_count": 184,
   "metadata": {},
   "outputs": [
    {
     "data": {
      "text/plain": [
       "[0.9268285886025298, 0.7378427788587986]"
      ]
     },
     "execution_count": 184,
     "metadata": {},
     "output_type": "execute_result"
    }
   ],
   "source": [
    "score = firstModel.evaluate(testX, testY, verbose=0)\n",
    "score"
   ]
  },
  {
   "cell_type": "code",
   "execution_count": 190,
   "metadata": {},
   "outputs": [
    {
     "name": "stdout",
     "output_type": "stream",
     "text": [
      "predYunique_elements :  [0 1 2]\n",
      "predY value's count :  [ 133 2491  111]\n",
      "real data value's count :  (array([0, 1, 2], dtype=int64), array([ 304, 2157,  274], dtype=int64))\n"
     ]
    }
   ],
   "source": [
    "predY= firstModel.predict(testX)\n",
    "unique_elements, counts_elements = np.unique(np.argmax(predY,axis = 1),return_counts=True)\n",
    "print(\"predYunique_elements : \",unique_elements)\n",
    "print(\"predY value's count : \",counts_elements)\n",
    "print(\"real data value's count : \",np.unique(testY,return_counts = True))"
   ]
  },
  {
   "cell_type": "markdown",
   "metadata": {},
   "source": [
    "# 데이터가 비정형 데이터 이므로 under sampling, over sampling을 시행."
   ]
  },
  {
   "cell_type": "code",
   "execution_count": 237,
   "metadata": {},
   "outputs": [
    {
     "name": "stdout",
     "output_type": "stream",
     "text": [
      "X_Undersample's shape :  (4299, 161)\n",
      "y_Undersample's shape :  (4299,)\n"
     ]
    }
   ],
   "source": [
    "rus = RandomUnderSampler(random_state=0)\n",
    "X_Undersample, y_Undersample = rus.fit_resample(Input_data, labels)\n",
    "print(\"X_Undersample's shape : \",X_Undersample.shape)\n",
    "print(\"y_Undersample's shape : \",y_Undersample.shape)"
   ]
  },
  {
   "cell_type": "code",
   "execution_count": 238,
   "metadata": {},
   "outputs": [
    {
     "name": "stdout",
     "output_type": "stream",
     "text": [
      "X_Undersample's shape :  (32049, 161)\n",
      "y_Undersample's shape :  (32049,)\n"
     ]
    }
   ],
   "source": [
    "ros = RandomOverSampler(random_state=0)\n",
    "X_Oversample, y_Oversample = ros.fit_resample(Input_data,labels)\n",
    "print(\"X_Undersample's shape : \",X_Oversample.shape)\n",
    "print(\"y_Undersample's shape : \",y_Oversample.shape)"
   ]
  },
  {
   "cell_type": "markdown",
   "metadata": {},
   "source": [
    "# 먼저 Under sampling data를 이용하여 모델 테스트"
   ]
  },
  {
   "cell_type": "code",
   "execution_count": 239,
   "metadata": {},
   "outputs": [
    {
     "name": "stdout",
     "output_type": "stream",
     "text": [
      "trainX : (3439, 161)\n",
      "trainX : (3439,)\n",
      "trainX : (860, 161)\n",
      "trainX : (860,)\n"
     ]
    }
   ],
   "source": [
    "UtrainX, UtestX, UtrainY, UtestY = train_test_split(X_Undersample, y_Undersample, test_size=0.2, random_state=42)\n",
    "print(\"trainX :\",UtrainX.shape)\n",
    "print(\"trainX :\",UtrainY.shape)\n",
    "print(\"trainX :\",UtestX.shape)\n",
    "print(\"trainX :\",UtestY.shape)"
   ]
  },
  {
   "cell_type": "code",
   "execution_count": 240,
   "metadata": {},
   "outputs": [],
   "source": [
    "### XGBoost\n",
    "Unbal_XGBmodel = XGBClassifier()\n",
    "Unbal_XGBmodel.fit(UtrainX,UtrainY)\n",
    "Unbal_predictions = Unbal_XGBmodel.predict(UtestX)"
   ]
  },
  {
   "cell_type": "code",
   "execution_count": 241,
   "metadata": {},
   "outputs": [
    {
     "name": "stdout",
     "output_type": "stream",
     "text": [
      "Mobile accuracy : 50.641025641025635\n",
      "Web accuracy : 28.368794326241137\n",
      "Desk accuracy : 50.37593984962406\n"
     ]
    }
   ],
   "source": [
    "# 0 = 'Mobile'\n",
    "# 1 = 'Web'\n",
    "# 2 = 'Desk'\n",
    "Mobile =0\n",
    "Web = 0\n",
    "Desk = 0\n",
    "np.unique(UtestY,return_counts = True)[1]\n",
    "for i in range(Unbal_predictions.shape[0]) :\n",
    "    if UtestY[i] == Unbal_predictions[i] :\n",
    "        if UtestY[i] == 0 :\n",
    "            Mobile += 1\n",
    "        elif UtestY[i] == 1 :\n",
    "            Web += 1\n",
    "        else :\n",
    "            Desk += 1\n",
    "print(\"Mobile accuracy :\", Mobile/np.unique(UtestY,return_counts = True)[1][0]*100)\n",
    "print(\"Web accuracy :\", Web/np.unique(UtestY,return_counts = True)[1][1]*100)\n",
    "print(\"Desk accuracy :\", Desk/np.unique(UtestY,return_counts = True)[1][2]*100)"
   ]
  },
  {
   "cell_type": "code",
   "execution_count": 242,
   "metadata": {},
   "outputs": [
    {
     "data": {
      "image/png": "[encoded data removed]",
      "text/plain": [
       "<Figure size 432x288 with 1 Axes>"
      ]
     },
     "metadata": {
      "needs_background": "light"
     },
     "output_type": "display_data"
    },
    {
     "data": {
      "text/plain": [
       "<keras.callbacks.History at 0x288e4ac8>"
      ]
     },
     "execution_count": 242,
     "metadata": {},
     "output_type": "execute_result"
    }
   ],
   "source": [
    "Unbal_Model=getModel([161,50,3])\n",
    "Unbal_Model.fit(np.array(UtrainX),np.array(UtrainY),epochs=40,callbacks=[plot_losses])"
   ]
  },
  {
   "cell_type": "code",
   "execution_count": 243,
   "metadata": {},
   "outputs": [],
   "source": [
    "# 생성된 모델 저장\n",
    "model_yaml = Unbal_Model.to_yaml()\n",
    "with open(\"Model_folder/ANN_model_under.yaml\", \"w\") as yaml_file:\n",
    "    yaml_file.write(model_yaml)\n",
    "# serialize weights to HDF5\n",
    "Unbal_Model.save_weights(\"Model_folder/model_3_under.h5\")"
   ]
  },
  {
   "cell_type": "code",
   "execution_count": 244,
   "metadata": {},
   "outputs": [
    {
     "name": "stdout",
     "output_type": "stream",
     "text": [
      "predYunique_elements :  [0 1 2]\n",
      "predY value's count :  [941 973 821]\n",
      "real data value's count :  (array([0, 1, 2], dtype=int64), array([ 304, 2157,  274], dtype=int64))\n"
     ]
    }
   ],
   "source": [
    "predY= Unbal_Model.predict(testX)\n",
    "unique_elements, counts_elements = np.unique(np.argmax(predY,axis = 1),return_counts=True)\n",
    "print(\"predY unique_elements : \",unique_elements)\n",
    "print(\"predY value's count : \",counts_elements)\n",
    "print(\"real data value's count : \",np.unique(testY,return_counts=True))"
   ]
  },
  {
   "cell_type": "markdown",
   "metadata": {},
   "source": [
    "#  Over sampling data를 이용하여 모델 테스트"
   ]
  },
  {
   "cell_type": "code",
   "execution_count": 246,
   "metadata": {},
   "outputs": [
    {
     "name": "stdout",
     "output_type": "stream",
     "text": [
      "trainX : (25639, 161)\n",
      "trainX : (25639,)\n",
      "trainX : (6410, 161)\n",
      "trainX : (6410,)\n"
     ]
    }
   ],
   "source": [
    "OtrainX, OtestX, OtrainY, OtestY = train_test_split(X_Oversample, y_Oversample , test_size=0.2, random_state=42)\n",
    "print(\"trainX :\",OtrainX.shape)\n",
    "print(\"trainX :\",OtrainY.shape)\n",
    "print(\"trainX :\",OtestX.shape)\n",
    "print(\"trainX :\",OtestY.shape)"
   ]
  },
  {
   "cell_type": "code",
   "execution_count": 272,
   "metadata": {},
   "outputs": [],
   "source": [
    "Over_XGBmodel = XGBClassifier()\n",
    "Over_XGBmodel.fit(OtrainX,OtrainY)\n",
    "Over_predictions = Over_XGBmodel.predict(testX)"
   ]
  },
  {
   "cell_type": "code",
   "execution_count": 275,
   "metadata": {},
   "outputs": [
    {
     "name": "stdout",
     "output_type": "stream",
     "text": [
      "Mobile accuracy : 60.526315789473685\n",
      "Web accuracy : 41.02920723226704\n",
      "Desk accuracy : 64.96350364963503\n"
     ]
    }
   ],
   "source": [
    "Mobile =0\n",
    "Web = 0\n",
    "Desk = 0\n",
    "testY\n",
    "for i in range(Over_predictions.shape[0]) :\n",
    "    if testY[i] ==Over_predictions[i] :\n",
    "        if testY[i] == 0 :\n",
    "            Mobile += 1\n",
    "        elif testY[i] == 1 :\n",
    "            Web += 1\n",
    "        else :\n",
    "            Desk += 1\n",
    "print(\"Mobile accuracy :\", Mobile/np.unique(testY,return_counts = True)[1][0]*100)\n",
    "print(\"Web accuracy :\", Web/np.unique(testY,return_counts = True)[1][1]*100)\n",
    "print(\"Desk accuracy :\", Desk/np.unique(testY,return_counts = True)[1][2]*100)"
   ]
  },
  {
   "cell_type": "code",
   "execution_count": 281,
   "metadata": {
    "scrolled": true
   },
   "outputs": [
    {
     "data": {
      "image/png": "[encoded data removed]",
      "text/plain": [
       "<Figure size 432x288 with 1 Axes>"
      ]
     },
     "metadata": {
      "needs_background": "light"
     },
     "output_type": "display_data"
    },
    {
     "data": {
      "text/plain": [
       "<keras.callbacks.History at 0x28cec278>"
      ]
     },
     "execution_count": 281,
     "metadata": {},
     "output_type": "execute_result"
    }
   ],
   "source": [
    "Over_Model=getModel([161,50,50,50,50,50,3])\n",
    "Over_Model.fit(np.array(OtrainX),np.array(OtrainY),epochs=38,callbacks=[plot_losses])"
   ]
  },
  {
   "cell_type": "code",
   "execution_count": 277,
   "metadata": {},
   "outputs": [],
   "source": [
    "# 생성된 모델 저장\n",
    "model_yaml = Over_Model.to_yaml()\n",
    "with open(\"Model_folder/ANN_model_over.yaml\", \"w\") as yaml_file:\n",
    "    yaml_file.write(model_yaml)\n",
    "# serialize weights to HDF5\n",
    "Over_Model.save_weights(\"Model_folder/model_3_over.h5\")"
   ]
  },
  {
   "cell_type": "code",
   "execution_count": 282,
   "metadata": {},
   "outputs": [
    {
     "data": {
      "text/plain": [
       "[0.43700289734702225, 0.8453382084095064]"
      ]
     },
     "execution_count": 282,
     "metadata": {},
     "output_type": "execute_result"
    }
   ],
   "source": [
    "score = Over_Model.evaluate(testX, testY, verbose=0)\n",
    "score"
   ]
  },
  {
   "cell_type": "code",
   "execution_count": 283,
   "metadata": {},
   "outputs": [
    {
     "name": "stdout",
     "output_type": "stream",
     "text": [
      "predYunique_elements :  [0 1 2]\n",
      "predY value's count :  [ 554 1777  404]\n",
      "real data value's count :  (array([0, 1, 2], dtype=int64), array([ 304, 2157,  274], dtype=int64))\n"
     ]
    }
   ],
   "source": [
    "predY= Over_Model.predict(testX)\n",
    "unique_elements, counts_elements = np.unique(np.argmax(predY,axis = 1),return_counts=True)\n",
    "print(\"predYunique_elements : \",unique_elements)\n",
    "print(\"predY value's count : \",counts_elements)\n",
    "print(\"real data value's count : \",np.unique(testY,return_counts=True))"
   ]
  },
  {
   "cell_type": "code",
   "execution_count": 284,
   "metadata": {},
   "outputs": [
    {
     "name": "stdout",
     "output_type": "stream",
     "text": [
      "[1 1 1 ... 0 1 2]\n",
      "[1 1 1 ... 0 1 2]\n",
      "Mobile accuracy : 96.71052631578947\n",
      "Web accuracy : 81.8266110338433\n",
      "Desk accuracy : 92.33576642335767\n"
     ]
    }
   ],
   "source": [
    "print(np.argmax(predY,axis = 1))\n",
    "print(testY)\n",
    "Mobile =0\n",
    "Web = 0\n",
    "Desk = 0\n",
    "testY\n",
    "for i in range(predY.shape[0]) :\n",
    "    if testY[i] == np.argmax(predY,axis = 1)[i] :\n",
    "        if testY[i] == 0 :\n",
    "            Mobile += 1\n",
    "        elif testY[i] == 1 :\n",
    "            Web += 1\n",
    "        else :\n",
    "            Desk += 1\n",
    "print(\"Mobile accuracy :\", Mobile/np.unique(testY,return_counts = True)[1][0]*100)\n",
    "print(\"Web accuracy :\", Web/np.unique(testY,return_counts = True)[1][1]*100)\n",
    "print(\"Desk accuracy :\", Desk/np.unique(testY,return_counts = True)[1][2]*100)"
   ]
  },
  {
   "cell_type": "code",
   "execution_count": 57,
   "metadata": {},
   "outputs": [],
   "source": [
    "# Load 하는 방법\n",
    "yaml_file = open(\"Model_folder/ANN_model.yaml\", 'r')\n",
    "loaded_model_yaml = yaml_file.read()\n",
    "yaml_file.close()\n",
    "loaded_model = model_from_yaml(loaded_model_yaml)\n",
    "# load weights into new model\n",
    "loaded_model.load_weights(\"Model_folder/model.h5\")\n",
    "loaded_model.compile(loss='binary_crossentropy', optimizer='rmsprop', metrics=['accuracy'])"
   ]
  },
  {
   "cell_type": "code",
   "execution_count": 39,
   "metadata": {},
   "outputs": [],
   "source": [
    "from sklearn.model_selection import StratifiedKFold\n",
    "from sklearn.svm import SVC\n",
    "from sklearn.neighbors import KNeighborsClassifier\n",
    "from sklearn.ensemble import RandomForestClassifier\n",
    "from sklearn.naive_bayes import MultinomialNB\n",
    "from sklearn.dummy import DummyClassifier\n",
    "from xgboost import XGBClassifier"
   ]
  },
  {
   "cell_type": "code",
   "execution_count": null,
   "metadata": {},
   "outputs": [],
   "source": [
    "class create_classification_df(x,y,models = ['SVM','NB','XGboost','KNeighbors','Logistic','SGD']\n",
    "                             , performance = ['f1-score','recall','Accuracy','precise'], binomial = False) :\n",
    "    \n",
    "    def __init__(self, x,y,models = ['SVM','NB','XGboost','KNeighbors','Logistic','SGD']\n",
    "                             , performance = ['f1-score','recall','Accuracy','precise'], binomial = False)):\n",
    "        self.x = x\n",
    "        self.y = y\n",
    "        self.models = models\n",
    "        self.performance = performance \n",
    "        self.binomial = binomial\n",
    "        self.Set_xgboost_parameter()\n",
    "    def Set_xgboost_parameter(self,objective = 'multi:softprob',eta = 0.1,max_depth = 5, num_class = 3, subsample = 0.8,\n",
    "                             colsample_bytree = 0.8, eval_metric = 'mlogloss',min_child_weight= 10,reg_alpha = 1.5,\n",
    "                             reg_lambda = 5, scale_pos_weight = 1, n_thread = -1) :\n",
    "        if 'XGboost' in self.models :\n",
    "            self.params = {'objective': objective,\n",
    "                      'learning_rate':eta,\n",
    "                      'max_depth': max_depth,\n",
    "                      'num_class': num_class,\n",
    "                      'subsample': subsample,\n",
    "                      'colsample_bytree': colsample_bytree,\n",
    "                      'eval_metric': eval_metric,\n",
    "                      'min_child_weight': min_child_weight,\n",
    "                      'reg_alpha': reg_alpha, \n",
    "                      'reg_lambda' : reg_lambda,\n",
    "                      'scale_pos_weight' : scale_pos_weight,          \n",
    "                      'n_thread':n_thread }\n",
    "        else:\n",
    "            print(\"no xgboost here\")\n",
    "  \n",
    "    def construct_model(self) :\n",
    "        model_dict = dict()\n",
    "        if binomial == True:\n",
    "            performance.append('AUC-ROC')\n",
    "        for model in models :\n",
    "            if model == 'SVM':\n",
    "                model_dict[model] = SVC(kernel = 'rbf',random_state = 10)\n",
    "            elif model == 'NB' :\n",
    "                model_dict[model] = MultinomialNB()\n",
    "            elif model == 'XGboost' :\n",
    "                model_dict[model] = xgb.train(self.params,dtrain,n_rounds,early_stopping_rounds=early_stop,verbose_eval=10)\n",
    "\n",
    "kf =StratifiedKFold(n_splits=5)\n",
    "for train_index,test_index in kf.split(Input_data): \n",
    "    xtr,xvl = Input_data[train_index], Input_data[test_index]\n",
    "    ytr,yvl = Output_data[train_index], Output_data[test_index]\n",
    "    \n",
    "    mNB.fit(xtr,ytr)\n",
    "    y_mNB = mNB.predict(xvl)\n",
    "    cv_score.append(log_loss(yvl,mNB.predict_proba(xvl)))    \n",
    "    pred_test_full += mNB.predict_proba(X_test_cv)"
   ]
  },
  {
   "cell_type": "code",
   "execution_count": null,
   "metadata": {},
   "outputs": [],
   "source": []
  }
 ],
 "metadata": {
  "kernelspec": {
   "display_name": "Python 3",
   "language": "python",
   "name": "python3"
  },
  "language_info": {
   "codemirror_mode": {
    "name": "ipython",
    "version": 3
   },
   "file_extension": ".py",
   "mimetype": "text/x-python",
   "name": "python",
   "nbconvert_exporter": "python",
   "pygments_lexer": "ipython3",
   "version": "3.7.4"
  }
 },
 "nbformat": 4,
 "nbformat_minor": 2
}
